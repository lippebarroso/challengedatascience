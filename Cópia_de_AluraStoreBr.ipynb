{
  "nbformat": 4,
  "nbformat_minor": 0,
  "metadata": {
    "colab": {
      "provenance": [],
      "include_colab_link": true
    },
    "kernelspec": {
      "name": "python3",
      "display_name": "Python 3"
    },
    "language_info": {
      "name": "python"
    }
  },
  "cells": [
    {
      "cell_type": "markdown",
      "metadata": {
        "id": "view-in-github",
        "colab_type": "text"
      },
      "source": [
        "<a href=\"https://colab.research.google.com/github/lippebarroso/challengedatascience/blob/main/C%C3%B3pia_de_AluraStoreBr.ipynb\" target=\"_parent\"><img src=\"https://colab.research.google.com/assets/colab-badge.svg\" alt=\"Open In Colab\"/></a>"
      ]
    },
    {
      "cell_type": "markdown",
      "source": [
        "### Importação dos dados\n",
        "\n"
      ],
      "metadata": {
        "id": "RhEdWd9YUR6H"
      }
    },
    {
      "cell_type": "code",
      "execution_count": 83,
      "metadata": {
        "colab": {
          "base_uri": "https://localhost:8080/",
          "height": 293
        },
        "id": "T3EvaeQ_INIL",
        "outputId": "a7667bd4-8764-4996-f354-0e18c9eddcc7"
      },
      "outputs": [
        {
          "output_type": "execute_result",
          "data": {
            "text/plain": [
              "                 Produto Categoria do Produto    Preço      Frete  \\\n",
              "0     Assistente virtual          eletronicos   219.08   9.249790   \n",
              "1         Mesa de jantar               moveis   256.35  11.234305   \n",
              "2      Jogo de tabuleiro           brinquedos   279.51  21.262681   \n",
              "3            Micro-ondas     eletrodomesticos  1009.99  54.667344   \n",
              "4  Cadeira de escritório               moveis   446.99  26.964689   \n",
              "\n",
              "  Data da Compra        Vendedor Local da compra  Avaliação da compra  \\\n",
              "0     16/01/2021     Pedro Gomes              SP                    4   \n",
              "1     18/05/2022  Beatriz Moraes              RJ                    1   \n",
              "2     15/03/2021      João Souza              DF                    1   \n",
              "3     03/05/2022      João Souza              RS                    4   \n",
              "4     07/11/2020   Larissa Alves              MG                    5   \n",
              "\n",
              "  Tipo de pagamento  Quantidade de parcelas    lat    lon  \n",
              "0    cartao_credito                       8 -22.19 -48.79  \n",
              "1    cartao_credito                       4 -22.25 -42.66  \n",
              "2    cartao_credito                       1 -15.83 -47.86  \n",
              "3            boleto                       1 -30.17 -53.50  \n",
              "4            boleto                       1 -18.10 -44.38  "
            ],
            "text/html": [
              "\n",
              "  <div id=\"df-6c8ef349-81eb-4e51-88b7-0ef747dc1e1e\" class=\"colab-df-container\">\n",
              "    <div>\n",
              "<style scoped>\n",
              "    .dataframe tbody tr th:only-of-type {\n",
              "        vertical-align: middle;\n",
              "    }\n",
              "\n",
              "    .dataframe tbody tr th {\n",
              "        vertical-align: top;\n",
              "    }\n",
              "\n",
              "    .dataframe thead th {\n",
              "        text-align: right;\n",
              "    }\n",
              "</style>\n",
              "<table border=\"1\" class=\"dataframe\">\n",
              "  <thead>\n",
              "    <tr style=\"text-align: right;\">\n",
              "      <th></th>\n",
              "      <th>Produto</th>\n",
              "      <th>Categoria do Produto</th>\n",
              "      <th>Preço</th>\n",
              "      <th>Frete</th>\n",
              "      <th>Data da Compra</th>\n",
              "      <th>Vendedor</th>\n",
              "      <th>Local da compra</th>\n",
              "      <th>Avaliação da compra</th>\n",
              "      <th>Tipo de pagamento</th>\n",
              "      <th>Quantidade de parcelas</th>\n",
              "      <th>lat</th>\n",
              "      <th>lon</th>\n",
              "    </tr>\n",
              "  </thead>\n",
              "  <tbody>\n",
              "    <tr>\n",
              "      <th>0</th>\n",
              "      <td>Assistente virtual</td>\n",
              "      <td>eletronicos</td>\n",
              "      <td>219.08</td>\n",
              "      <td>9.249790</td>\n",
              "      <td>16/01/2021</td>\n",
              "      <td>Pedro Gomes</td>\n",
              "      <td>SP</td>\n",
              "      <td>4</td>\n",
              "      <td>cartao_credito</td>\n",
              "      <td>8</td>\n",
              "      <td>-22.19</td>\n",
              "      <td>-48.79</td>\n",
              "    </tr>\n",
              "    <tr>\n",
              "      <th>1</th>\n",
              "      <td>Mesa de jantar</td>\n",
              "      <td>moveis</td>\n",
              "      <td>256.35</td>\n",
              "      <td>11.234305</td>\n",
              "      <td>18/05/2022</td>\n",
              "      <td>Beatriz Moraes</td>\n",
              "      <td>RJ</td>\n",
              "      <td>1</td>\n",
              "      <td>cartao_credito</td>\n",
              "      <td>4</td>\n",
              "      <td>-22.25</td>\n",
              "      <td>-42.66</td>\n",
              "    </tr>\n",
              "    <tr>\n",
              "      <th>2</th>\n",
              "      <td>Jogo de tabuleiro</td>\n",
              "      <td>brinquedos</td>\n",
              "      <td>279.51</td>\n",
              "      <td>21.262681</td>\n",
              "      <td>15/03/2021</td>\n",
              "      <td>João Souza</td>\n",
              "      <td>DF</td>\n",
              "      <td>1</td>\n",
              "      <td>cartao_credito</td>\n",
              "      <td>1</td>\n",
              "      <td>-15.83</td>\n",
              "      <td>-47.86</td>\n",
              "    </tr>\n",
              "    <tr>\n",
              "      <th>3</th>\n",
              "      <td>Micro-ondas</td>\n",
              "      <td>eletrodomesticos</td>\n",
              "      <td>1009.99</td>\n",
              "      <td>54.667344</td>\n",
              "      <td>03/05/2022</td>\n",
              "      <td>João Souza</td>\n",
              "      <td>RS</td>\n",
              "      <td>4</td>\n",
              "      <td>boleto</td>\n",
              "      <td>1</td>\n",
              "      <td>-30.17</td>\n",
              "      <td>-53.50</td>\n",
              "    </tr>\n",
              "    <tr>\n",
              "      <th>4</th>\n",
              "      <td>Cadeira de escritório</td>\n",
              "      <td>moveis</td>\n",
              "      <td>446.99</td>\n",
              "      <td>26.964689</td>\n",
              "      <td>07/11/2020</td>\n",
              "      <td>Larissa Alves</td>\n",
              "      <td>MG</td>\n",
              "      <td>5</td>\n",
              "      <td>boleto</td>\n",
              "      <td>1</td>\n",
              "      <td>-18.10</td>\n",
              "      <td>-44.38</td>\n",
              "    </tr>\n",
              "  </tbody>\n",
              "</table>\n",
              "</div>\n",
              "    <div class=\"colab-df-buttons\">\n",
              "\n",
              "  <div class=\"colab-df-container\">\n",
              "    <button class=\"colab-df-convert\" onclick=\"convertToInteractive('df-6c8ef349-81eb-4e51-88b7-0ef747dc1e1e')\"\n",
              "            title=\"Convert this dataframe to an interactive table.\"\n",
              "            style=\"display:none;\">\n",
              "\n",
              "  <svg xmlns=\"http://www.w3.org/2000/svg\" height=\"24px\" viewBox=\"0 -960 960 960\">\n",
              "    <path d=\"M120-120v-720h720v720H120Zm60-500h600v-160H180v160Zm220 220h160v-160H400v160Zm0 220h160v-160H400v160ZM180-400h160v-160H180v160Zm440 0h160v-160H620v160ZM180-180h160v-160H180v160Zm440 0h160v-160H620v160Z\"/>\n",
              "  </svg>\n",
              "    </button>\n",
              "\n",
              "  <style>\n",
              "    .colab-df-container {\n",
              "      display:flex;\n",
              "      gap: 12px;\n",
              "    }\n",
              "\n",
              "    .colab-df-convert {\n",
              "      background-color: #E8F0FE;\n",
              "      border: none;\n",
              "      border-radius: 50%;\n",
              "      cursor: pointer;\n",
              "      display: none;\n",
              "      fill: #1967D2;\n",
              "      height: 32px;\n",
              "      padding: 0 0 0 0;\n",
              "      width: 32px;\n",
              "    }\n",
              "\n",
              "    .colab-df-convert:hover {\n",
              "      background-color: #E2EBFA;\n",
              "      box-shadow: 0px 1px 2px rgba(60, 64, 67, 0.3), 0px 1px 3px 1px rgba(60, 64, 67, 0.15);\n",
              "      fill: #174EA6;\n",
              "    }\n",
              "\n",
              "    .colab-df-buttons div {\n",
              "      margin-bottom: 4px;\n",
              "    }\n",
              "\n",
              "    [theme=dark] .colab-df-convert {\n",
              "      background-color: #3B4455;\n",
              "      fill: #D2E3FC;\n",
              "    }\n",
              "\n",
              "    [theme=dark] .colab-df-convert:hover {\n",
              "      background-color: #434B5C;\n",
              "      box-shadow: 0px 1px 3px 1px rgba(0, 0, 0, 0.15);\n",
              "      filter: drop-shadow(0px 1px 2px rgba(0, 0, 0, 0.3));\n",
              "      fill: #FFFFFF;\n",
              "    }\n",
              "  </style>\n",
              "\n",
              "    <script>\n",
              "      const buttonEl =\n",
              "        document.querySelector('#df-6c8ef349-81eb-4e51-88b7-0ef747dc1e1e button.colab-df-convert');\n",
              "      buttonEl.style.display =\n",
              "        google.colab.kernel.accessAllowed ? 'block' : 'none';\n",
              "\n",
              "      async function convertToInteractive(key) {\n",
              "        const element = document.querySelector('#df-6c8ef349-81eb-4e51-88b7-0ef747dc1e1e');\n",
              "        const dataTable =\n",
              "          await google.colab.kernel.invokeFunction('convertToInteractive',\n",
              "                                                    [key], {});\n",
              "        if (!dataTable) return;\n",
              "\n",
              "        const docLinkHtml = 'Like what you see? Visit the ' +\n",
              "          '<a target=\"_blank\" href=https://colab.research.google.com/notebooks/data_table.ipynb>data table notebook</a>'\n",
              "          + ' to learn more about interactive tables.';\n",
              "        element.innerHTML = '';\n",
              "        dataTable['output_type'] = 'display_data';\n",
              "        await google.colab.output.renderOutput(dataTable, element);\n",
              "        const docLink = document.createElement('div');\n",
              "        docLink.innerHTML = docLinkHtml;\n",
              "        element.appendChild(docLink);\n",
              "      }\n",
              "    </script>\n",
              "  </div>\n",
              "\n",
              "\n",
              "<div id=\"df-3e8c6adb-e75c-4108-a7a8-97511125f34a\">\n",
              "  <button class=\"colab-df-quickchart\" onclick=\"quickchart('df-3e8c6adb-e75c-4108-a7a8-97511125f34a')\"\n",
              "            title=\"Suggest charts\"\n",
              "            style=\"display:none;\">\n",
              "\n",
              "<svg xmlns=\"http://www.w3.org/2000/svg\" height=\"24px\"viewBox=\"0 0 24 24\"\n",
              "     width=\"24px\">\n",
              "    <g>\n",
              "        <path d=\"M19 3H5c-1.1 0-2 .9-2 2v14c0 1.1.9 2 2 2h14c1.1 0 2-.9 2-2V5c0-1.1-.9-2-2-2zM9 17H7v-7h2v7zm4 0h-2V7h2v10zm4 0h-2v-4h2v4z\"/>\n",
              "    </g>\n",
              "</svg>\n",
              "  </button>\n",
              "\n",
              "<style>\n",
              "  .colab-df-quickchart {\n",
              "      --bg-color: #E8F0FE;\n",
              "      --fill-color: #1967D2;\n",
              "      --hover-bg-color: #E2EBFA;\n",
              "      --hover-fill-color: #174EA6;\n",
              "      --disabled-fill-color: #AAA;\n",
              "      --disabled-bg-color: #DDD;\n",
              "  }\n",
              "\n",
              "  [theme=dark] .colab-df-quickchart {\n",
              "      --bg-color: #3B4455;\n",
              "      --fill-color: #D2E3FC;\n",
              "      --hover-bg-color: #434B5C;\n",
              "      --hover-fill-color: #FFFFFF;\n",
              "      --disabled-bg-color: #3B4455;\n",
              "      --disabled-fill-color: #666;\n",
              "  }\n",
              "\n",
              "  .colab-df-quickchart {\n",
              "    background-color: var(--bg-color);\n",
              "    border: none;\n",
              "    border-radius: 50%;\n",
              "    cursor: pointer;\n",
              "    display: none;\n",
              "    fill: var(--fill-color);\n",
              "    height: 32px;\n",
              "    padding: 0;\n",
              "    width: 32px;\n",
              "  }\n",
              "\n",
              "  .colab-df-quickchart:hover {\n",
              "    background-color: var(--hover-bg-color);\n",
              "    box-shadow: 0 1px 2px rgba(60, 64, 67, 0.3), 0 1px 3px 1px rgba(60, 64, 67, 0.15);\n",
              "    fill: var(--button-hover-fill-color);\n",
              "  }\n",
              "\n",
              "  .colab-df-quickchart-complete:disabled,\n",
              "  .colab-df-quickchart-complete:disabled:hover {\n",
              "    background-color: var(--disabled-bg-color);\n",
              "    fill: var(--disabled-fill-color);\n",
              "    box-shadow: none;\n",
              "  }\n",
              "\n",
              "  .colab-df-spinner {\n",
              "    border: 2px solid var(--fill-color);\n",
              "    border-color: transparent;\n",
              "    border-bottom-color: var(--fill-color);\n",
              "    animation:\n",
              "      spin 1s steps(1) infinite;\n",
              "  }\n",
              "\n",
              "  @keyframes spin {\n",
              "    0% {\n",
              "      border-color: transparent;\n",
              "      border-bottom-color: var(--fill-color);\n",
              "      border-left-color: var(--fill-color);\n",
              "    }\n",
              "    20% {\n",
              "      border-color: transparent;\n",
              "      border-left-color: var(--fill-color);\n",
              "      border-top-color: var(--fill-color);\n",
              "    }\n",
              "    30% {\n",
              "      border-color: transparent;\n",
              "      border-left-color: var(--fill-color);\n",
              "      border-top-color: var(--fill-color);\n",
              "      border-right-color: var(--fill-color);\n",
              "    }\n",
              "    40% {\n",
              "      border-color: transparent;\n",
              "      border-right-color: var(--fill-color);\n",
              "      border-top-color: var(--fill-color);\n",
              "    }\n",
              "    60% {\n",
              "      border-color: transparent;\n",
              "      border-right-color: var(--fill-color);\n",
              "    }\n",
              "    80% {\n",
              "      border-color: transparent;\n",
              "      border-right-color: var(--fill-color);\n",
              "      border-bottom-color: var(--fill-color);\n",
              "    }\n",
              "    90% {\n",
              "      border-color: transparent;\n",
              "      border-bottom-color: var(--fill-color);\n",
              "    }\n",
              "  }\n",
              "</style>\n",
              "\n",
              "  <script>\n",
              "    async function quickchart(key) {\n",
              "      const quickchartButtonEl =\n",
              "        document.querySelector('#' + key + ' button');\n",
              "      quickchartButtonEl.disabled = true;  // To prevent multiple clicks.\n",
              "      quickchartButtonEl.classList.add('colab-df-spinner');\n",
              "      try {\n",
              "        const charts = await google.colab.kernel.invokeFunction(\n",
              "            'suggestCharts', [key], {});\n",
              "      } catch (error) {\n",
              "        console.error('Error during call to suggestCharts:', error);\n",
              "      }\n",
              "      quickchartButtonEl.classList.remove('colab-df-spinner');\n",
              "      quickchartButtonEl.classList.add('colab-df-quickchart-complete');\n",
              "    }\n",
              "    (() => {\n",
              "      let quickchartButtonEl =\n",
              "        document.querySelector('#df-3e8c6adb-e75c-4108-a7a8-97511125f34a button');\n",
              "      quickchartButtonEl.style.display =\n",
              "        google.colab.kernel.accessAllowed ? 'block' : 'none';\n",
              "    })();\n",
              "  </script>\n",
              "</div>\n",
              "\n",
              "    </div>\n",
              "  </div>\n"
            ],
            "application/vnd.google.colaboratory.intrinsic+json": {
              "type": "dataframe",
              "variable_name": "loja",
              "summary": "{\n  \"name\": \"loja\",\n  \"rows\": 2359,\n  \"fields\": [\n    {\n      \"column\": \"Produto\",\n      \"properties\": {\n        \"dtype\": \"category\",\n        \"num_unique_values\": 51,\n        \"samples\": [\n          \"Viol\\u00e3o\",\n          \"Bola de basquete\",\n          \"Smartwatch\"\n        ],\n        \"semantic_type\": \"\",\n        \"description\": \"\"\n      }\n    },\n    {\n      \"column\": \"Categoria do Produto\",\n      \"properties\": {\n        \"dtype\": \"category\",\n        \"num_unique_values\": 8,\n        \"samples\": [\n          \"moveis\",\n          \"esporte e lazer\",\n          \"eletronicos\"\n        ],\n        \"semantic_type\": \"\",\n        \"description\": \"\"\n      }\n    },\n    {\n      \"column\": \"Pre\\u00e7o\",\n      \"properties\": {\n        \"dtype\": \"number\",\n        \"std\": 819.5827782539145,\n        \"min\": 10.07,\n        \"max\": 3969.38,\n        \"num_unique_values\": 2315,\n        \"samples\": [\n          446.11,\n          107.31,\n          65.86\n        ],\n        \"semantic_type\": \"\",\n        \"description\": \"\"\n      }\n    },\n    {\n      \"column\": \"Frete\",\n      \"properties\": {\n        \"dtype\": \"number\",\n        \"std\": 43.814183327408166,\n        \"min\": 0.0,\n        \"max\": 214.3770604781,\n        \"num_unique_values\": 2149,\n        \"samples\": [\n          83.815279607,\n          16.069664669,\n          14.0344876928\n        ],\n        \"semantic_type\": \"\",\n        \"description\": \"\"\n      }\n    },\n    {\n      \"column\": \"Data da Compra\",\n      \"properties\": {\n        \"dtype\": \"object\",\n        \"num_unique_values\": 1018,\n        \"samples\": [\n          \"15/09/2022\",\n          \"03/06/2020\",\n          \"06/11/2021\"\n        ],\n        \"semantic_type\": \"\",\n        \"description\": \"\"\n      }\n    },\n    {\n      \"column\": \"Vendedor\",\n      \"properties\": {\n        \"dtype\": \"category\",\n        \"num_unique_values\": 14,\n        \"samples\": [\n          \"Juliana Costa\",\n          \"Mariana Ferreira\",\n          \"Pedro Gomes\"\n        ],\n        \"semantic_type\": \"\",\n        \"description\": \"\"\n      }\n    },\n    {\n      \"column\": \"Local da compra\",\n      \"properties\": {\n        \"dtype\": \"category\",\n        \"num_unique_values\": 26,\n        \"samples\": [\n          \"TO\",\n          \"RN\",\n          \"SP\"\n        ],\n        \"semantic_type\": \"\",\n        \"description\": \"\"\n      }\n    },\n    {\n      \"column\": \"Avalia\\u00e7\\u00e3o da compra\",\n      \"properties\": {\n        \"dtype\": \"number\",\n        \"std\": 1,\n        \"min\": 1,\n        \"max\": 5,\n        \"num_unique_values\": 5,\n        \"samples\": [\n          1,\n          2,\n          5\n        ],\n        \"semantic_type\": \"\",\n        \"description\": \"\"\n      }\n    },\n    {\n      \"column\": \"Tipo de pagamento\",\n      \"properties\": {\n        \"dtype\": \"category\",\n        \"num_unique_values\": 4,\n        \"samples\": [\n          \"boleto\",\n          \"cartao_debito\",\n          \"cartao_credito\"\n        ],\n        \"semantic_type\": \"\",\n        \"description\": \"\"\n      }\n    },\n    {\n      \"column\": \"Quantidade de parcelas\",\n      \"properties\": {\n        \"dtype\": \"number\",\n        \"std\": 2,\n        \"min\": 1,\n        \"max\": 24,\n        \"num_unique_values\": 15,\n        \"samples\": [\n          7,\n          14,\n          8\n        ],\n        \"semantic_type\": \"\",\n        \"description\": \"\"\n      }\n    },\n    {\n      \"column\": \"lat\",\n      \"properties\": {\n        \"dtype\": \"number\",\n        \"std\": 5.372399916530833,\n        \"min\": -30.17,\n        \"max\": 1.41,\n        \"num_unique_values\": 26,\n        \"samples\": [\n          -9.46,\n          -5.81,\n          -22.19\n        ],\n        \"semantic_type\": \"\",\n        \"description\": \"\"\n      }\n    },\n    {\n      \"column\": \"lon\",\n      \"properties\": {\n        \"dtype\": \"number\",\n        \"std\": 4.183180020544179,\n        \"min\": -70.55,\n        \"max\": -36.59,\n        \"num_unique_values\": 26,\n        \"samples\": [\n          -48.26,\n          -36.59,\n          -48.79\n        ],\n        \"semantic_type\": \"\",\n        \"description\": \"\"\n      }\n    }\n  ]\n}"
            }
          },
          "metadata": {},
          "execution_count": 83
        }
      ],
      "source": [
        "import pandas as pd\n",
        "\n",
        "url = \"https://raw.githubusercontent.com/alura-es-cursos/challenge1-data-science/refs/heads/main/base-de-dados-challenge-1/loja_1.csv\"\n",
        "url2 = \"https://raw.githubusercontent.com/alura-es-cursos/challenge1-data-science/refs/heads/main/base-de-dados-challenge-1/loja_2.csv\"\n",
        "url3 = \"https://raw.githubusercontent.com/alura-es-cursos/challenge1-data-science/refs/heads/main/base-de-dados-challenge-1/loja_3.csv\"\n",
        "url4 = \"https://raw.githubusercontent.com/alura-es-cursos/challenge1-data-science/refs/heads/main/base-de-dados-challenge-1/loja_4.csv\"\n",
        "\n",
        "loja = pd.read_csv(url)\n",
        "loja2 = pd.read_csv(url2)\n",
        "loja3 = pd.read_csv(url3)\n",
        "loja4 = pd.read_csv(url4)\n",
        "\n",
        "loja.head()"
      ]
    },
    {
      "cell_type": "markdown",
      "source": [
        "#1. Análise do faturamento\n"
      ],
      "metadata": {
        "id": "X62IW3KFUIYm"
      }
    },
    {
      "cell_type": "code",
      "source": [
        "df = loja\n",
        "df['Preço'].sum()\n",
        "df['Faturamento'] = df['Preço']\n",
        "total_faturamento = df['Faturamento'].sum()\n",
        "print(total_faturamento)"
      ],
      "metadata": {
        "id": "xykobSftV64I",
        "colab": {
          "base_uri": "https://localhost:8080/"
        },
        "outputId": "02d8ec47-74c8-4b3b-d2a6-7dca53cca388"
      },
      "execution_count": 84,
      "outputs": [
        {
          "output_type": "stream",
          "name": "stdout",
          "text": [
            "1534509.12\n"
          ]
        }
      ]
    },
    {
      "cell_type": "code",
      "source": [
        "df = loja2\n",
        "df['Preço'].sum()\n",
        "df['Faturamento'] = df['Preço']\n",
        "total_faturamento = df['Faturamento'].sum()\n",
        "print(total_faturamento)\n"
      ],
      "metadata": {
        "id": "KDyr8E71V3m-",
        "colab": {
          "base_uri": "https://localhost:8080/"
        },
        "outputId": "a8ecf692-120f-4bf1-f107-684309c908b7"
      },
      "execution_count": 78,
      "outputs": [
        {
          "output_type": "stream",
          "name": "stdout",
          "text": [
            "1488459.06\n"
          ]
        }
      ]
    },
    {
      "cell_type": "code",
      "source": [
        "df = loja3\n",
        "df['Preço'].sum()\n",
        "df['Faturamento'] = df['Preço']\n",
        "total_faturamento = df['Faturamento'].sum()\n",
        "print(total_faturamento)\n"
      ],
      "metadata": {
        "colab": {
          "base_uri": "https://localhost:8080/"
        },
        "id": "ZzkZ61bN2YVJ",
        "outputId": "f9592330-f4c0-4931-9daf-c5bf5fe01197"
      },
      "execution_count": 79,
      "outputs": [
        {
          "output_type": "stream",
          "name": "stdout",
          "text": [
            "1464025.03\n"
          ]
        }
      ]
    },
    {
      "cell_type": "code",
      "source": [
        "df = loja4\n",
        "df['Preço'].sum()\n",
        "df['Faturamento'] = df['Preço']\n",
        "total_faturamento = df['Faturamento'].sum()\n",
        "print(total_faturamento)"
      ],
      "metadata": {
        "colab": {
          "base_uri": "https://localhost:8080/"
        },
        "id": "A0t_78qu2YHC",
        "outputId": "42b2fdae-1b3f-4b24-d638-589a6174e68f"
      },
      "execution_count": 80,
      "outputs": [
        {
          "output_type": "stream",
          "name": "stdout",
          "text": [
            "1384497.58\n"
          ]
        }
      ]
    },
    {
      "cell_type": "markdown",
      "source": [],
      "metadata": {
        "id": "NdYqbQNZUCNx"
      }
    },
    {
      "cell_type": "markdown",
      "source": [
        "# 2. Vendas por Categoria\n"
      ],
      "metadata": {
        "id": "2V_vcAPzWZmR"
      }
    },
    {
      "cell_type": "code",
      "source": [
        "df = loja\n",
        "contagem_produtos = df['Produto'].value_counts()\n",
        "contagem_produtos = contagem_produtos.sort_values(ascending=False)\n",
        "resultado = df.groupby('Categoria do Produto')['Produto'].count().reset_index()\n",
        "resultado.columns = ['Categoria do Produto', 'Quantidade de Produtos Vendidos']\n",
        "resultado = resultado.sort_values(by='Quantidade de Produtos Vendidos', ascending=False)\n",
        "\n",
        "print(resultado)"
      ],
      "metadata": {
        "id": "A34YupIuYhfF",
        "colab": {
          "base_uri": "https://localhost:8080/"
        },
        "outputId": "c5b12ac7-ac7e-4283-a465-e59f7a9a46d6",
        "collapsed": true
      },
      "execution_count": 59,
      "outputs": [
        {
          "output_type": "stream",
          "name": "stdout",
          "text": [
            "    Categoria do Produto  Quantidade de Produtos Vendidos\n",
            "6                 moveis                              465\n",
            "2            eletronicos                              448\n",
            "0             brinquedos                              324\n",
            "1       eletrodomesticos                              312\n",
            "3        esporte e lazer                              284\n",
            "4  instrumentos musicais                              182\n",
            "5                 livros                              173\n",
            "7  utilidades domesticas                              171\n"
          ]
        }
      ]
    },
    {
      "cell_type": "code",
      "source": [
        "df = loja2\n",
        "contagem_produtos = df['Produto'].value_counts()\n",
        "contagem_produtos = contagem_produtos.sort_values(ascending=False)\n",
        "resultado = df.groupby('Categoria do Produto')['Produto'].count().reset_index()\n",
        "resultado.columns = ['Categoria do Produto', 'Quantidade de Produtos Vendidos']\n",
        "resultado = resultado.sort_values(by='Quantidade de Produtos Vendidos', ascending=False)\n",
        "\n",
        "print(resultado)"
      ],
      "metadata": {
        "id": "yZR6cOjXYSk1",
        "colab": {
          "base_uri": "https://localhost:8080/"
        },
        "outputId": "83bff19f-a47c-4b1c-8ff0-e306bd676b27",
        "collapsed": true
      },
      "execution_count": 60,
      "outputs": [
        {
          "output_type": "stream",
          "name": "stdout",
          "text": [
            "    Categoria do Produto  Quantidade de Produtos Vendidos\n",
            "6                 moveis                              442\n",
            "2            eletronicos                              422\n",
            "0             brinquedos                              313\n",
            "1       eletrodomesticos                              305\n",
            "3        esporte e lazer                              275\n",
            "4  instrumentos musicais                              224\n",
            "5                 livros                              197\n",
            "7  utilidades domesticas                              181\n"
          ]
        }
      ]
    },
    {
      "cell_type": "code",
      "source": [
        "df = loja3\n",
        "contagem_produtos = df['Produto'].value_counts()\n",
        "contagem_produtos = contagem_produtos.sort_values(ascending=False)\n",
        "resultado = df.groupby('Categoria do Produto')['Produto'].count().reset_index()\n",
        "resultado.columns = ['Categoria do Produto', 'Quantidade de Produtos Vendidos']\n",
        "resultado = resultado.sort_values(by='Quantidade de Produtos Vendidos', ascending=False)\n",
        "\n",
        "print(resultado)"
      ],
      "metadata": {
        "colab": {
          "base_uri": "https://localhost:8080/"
        },
        "id": "F3azZ2paOAhn",
        "outputId": "31cbb575-92a0-4458-8e64-28b568e86c09",
        "collapsed": true
      },
      "execution_count": 61,
      "outputs": [
        {
          "output_type": "stream",
          "name": "stdout",
          "text": [
            "    Categoria do Produto  Quantidade de Produtos Vendidos\n",
            "6                 moveis                              499\n",
            "2            eletronicos                              451\n",
            "0             brinquedos                              315\n",
            "1       eletrodomesticos                              278\n",
            "3        esporte e lazer                              277\n",
            "5                 livros                              185\n",
            "4  instrumentos musicais                              177\n",
            "7  utilidades domesticas                              177\n"
          ]
        }
      ]
    },
    {
      "cell_type": "code",
      "source": [
        "df = loja4\n",
        "contagem_produtos = df['Produto'].value_counts()\n",
        "contagem_produtos = contagem_produtos.sort_values(ascending=False)\n",
        "resultado = df.groupby('Categoria do Produto')['Produto'].count().reset_index()\n",
        "resultado.columns = ['Categoria do Produto', 'Quantidade de Produtos Vendidos']\n",
        "resultado = resultado.sort_values(by='Quantidade de Produtos Vendidos', ascending=False)\n",
        "\n",
        "print(resultado)"
      ],
      "metadata": {
        "colab": {
          "base_uri": "https://localhost:8080/"
        },
        "id": "puYg5Ac0OATh",
        "outputId": "a1929429-c9e0-4a44-c01f-5179e0ab1b98",
        "collapsed": true
      },
      "execution_count": 62,
      "outputs": [
        {
          "output_type": "stream",
          "name": "stdout",
          "text": [
            "    Categoria do Produto  Quantidade de Produtos Vendidos\n",
            "6                 moveis                              480\n",
            "2            eletronicos                              451\n",
            "0             brinquedos                              338\n",
            "3        esporte e lazer                              277\n",
            "1       eletrodomesticos                              254\n",
            "7  utilidades domesticas                              201\n",
            "5                 livros                              187\n",
            "4  instrumentos musicais                              170\n"
          ]
        }
      ]
    },
    {
      "cell_type": "markdown",
      "source": [
        "# 3. Média de Avaliação das Lojas"
      ],
      "metadata": {
        "id": "Rq6tU_xSY3jk"
      }
    },
    {
      "cell_type": "code",
      "source": [
        "df = loja\n",
        "media_avaliacao = df['Avaliação da compra'].mean()\n",
        "print(\"{:.2f}\".format(media_avaliacao))"
      ],
      "metadata": {
        "id": "bh3jjjJwY5MU",
        "colab": {
          "base_uri": "https://localhost:8080/"
        },
        "outputId": "f27f7def-4be2-4746-f60b-cdb321008215"
      },
      "execution_count": 26,
      "outputs": [
        {
          "output_type": "stream",
          "name": "stdout",
          "text": [
            "3.98\n"
          ]
        }
      ]
    },
    {
      "cell_type": "code",
      "source": [
        "df = loja2\n",
        "media_avaliacao = df['Avaliação da compra'].mean()\n",
        "print(\"{:.2f}\".format(media_avaliacao))"
      ],
      "metadata": {
        "colab": {
          "base_uri": "https://localhost:8080/"
        },
        "id": "hnf33dg0S3a8",
        "outputId": "884d3c86-7dca-412b-f624-c0dbaee85ec5"
      },
      "execution_count": 27,
      "outputs": [
        {
          "output_type": "stream",
          "name": "stdout",
          "text": [
            "4.04\n"
          ]
        }
      ]
    },
    {
      "cell_type": "code",
      "source": [
        "df = loja3\n",
        "media_avaliacao = df['Avaliação da compra'].mean()\n",
        "print(\"{:.2f}\".format(media_avaliacao))"
      ],
      "metadata": {
        "colab": {
          "base_uri": "https://localhost:8080/"
        },
        "id": "UoOot1IWS3OL",
        "outputId": "e3829540-c04e-40e6-c03a-18a1be35a0c5"
      },
      "execution_count": 28,
      "outputs": [
        {
          "output_type": "stream",
          "name": "stdout",
          "text": [
            "4.05\n"
          ]
        }
      ]
    },
    {
      "cell_type": "code",
      "source": [
        "df = loja4\n",
        "media_avaliacao = df['Avaliação da compra'].mean()\n",
        "print(\"{:.2f}\".format(media_avaliacao))"
      ],
      "metadata": {
        "id": "I0KkjPoTY88F",
        "colab": {
          "base_uri": "https://localhost:8080/"
        },
        "outputId": "80bbfaaf-33e0-441c-eb6e-59c20bf1fc49"
      },
      "execution_count": 29,
      "outputs": [
        {
          "output_type": "stream",
          "name": "stdout",
          "text": [
            "4.00\n"
          ]
        }
      ]
    },
    {
      "cell_type": "markdown",
      "source": [
        "# 4. Produtos Mais e Menos Vendidos"
      ],
      "metadata": {
        "id": "DmNp1KPBZCm-"
      }
    },
    {
      "cell_type": "code",
      "source": [
        "df = loja\n",
        "contagem_produtos = df['Produto'].value_counts()\n",
        "contagem_produtos = contagem_produtos.sort_values(ascending=False)\n",
        "print(contagem_produtos)"
      ],
      "metadata": {
        "id": "qoyjqijQZHfF",
        "colab": {
          "base_uri": "https://localhost:8080/"
        },
        "outputId": "26c094ff-ca1a-4e52-e94c-f2e06abe5969",
        "collapsed": true
      },
      "execution_count": 14,
      "outputs": [
        {
          "output_type": "stream",
          "name": "stdout",
          "text": [
            "Produto\n",
            "Micro-ondas                    60\n",
            "TV Led UHD 4K                  60\n",
            "Guarda roupas                  60\n",
            "Secadora de roupas             58\n",
            "Cômoda                         56\n",
            "Blocos de montar               56\n",
            "Bola de basquete               55\n",
            "Bicicleta                      54\n",
            "Copo térmico                   54\n",
            "Geladeira                      54\n",
            "Impressora                     54\n",
            "Bateria                        53\n",
            "Faqueiro                       52\n",
            "Carrinho controle remoto       52\n",
            "Modelagem preditiva            51\n",
            "Fone de ouvido                 50\n",
            "Xadrez de madeira              49\n",
            "Celular Plus X42               49\n",
            "Lava louças                    48\n",
            "Lavadora de roupas             47\n",
            "Guitarra                       47\n",
            "Violão                         46\n",
            "Sofá retrátil                  46\n",
            "Cadeira de escritório          46\n",
            "Fogão                          45\n",
            "Cama box                       44\n",
            "Kit banquetas                  44\n",
            "Smart TV                       44\n",
            "Cama king                      44\n",
            "Cubo mágico 8x8                44\n",
            "Mesa de centro                 44\n",
            "Jogo de panelas                43\n",
            "Smartwatch                     43\n",
            "Jogo de tabuleiro              43\n",
            "Bola de vôlei                  42\n",
            "Dashboards com Power BI        42\n",
            "Tablet ABXY                    42\n",
            "Poltrona                       41\n",
            "Iniciando em programação       41\n",
            "Jogo de copos                  41\n",
            "Assistente virtual             40\n",
            "Boneca bebê                    40\n",
            "Mesa de jantar                 40\n",
            "Dinossauro Rex                 40\n",
            "Corda de pular                 40\n",
            "Mochila                        39\n",
            "Ciência de dados com python    39\n",
            "Pandeiro                       36\n",
            "Panela de pressão              35\n",
            "Headset                        33\n",
            "Celular ABXY                   33\n",
            "Name: count, dtype: int64\n"
          ]
        }
      ]
    },
    {
      "cell_type": "code",
      "source": [
        "df = loja2\n",
        "contagem_produtos = df['Produto'].value_counts()\n",
        "contagem_produtos = contagem_produtos.sort_values(ascending=False)\n",
        "print(contagem_produtos)"
      ],
      "metadata": {
        "id": "0Sw3sd4IZIGW",
        "colab": {
          "base_uri": "https://localhost:8080/"
        },
        "outputId": "523efe13-3a5d-4d13-aa3c-4bccfc400cfb",
        "collapsed": true
      },
      "execution_count": 15,
      "outputs": [
        {
          "output_type": "stream",
          "name": "stdout",
          "text": [
            "Produto\n",
            "Iniciando em programação       65\n",
            "Micro-ondas                    62\n",
            "Bateria                        61\n",
            "Violão                         58\n",
            "Pandeiro                       58\n",
            "Secadora de roupas             57\n",
            "Celular Plus X42               55\n",
            "Blocos de montar               54\n",
            "Guarda roupas                  54\n",
            "Jogo de panelas                52\n",
            "Corda de pular                 50\n",
            "Lavadora de roupas             49\n",
            "Cadeira de escritório          49\n",
            "Geladeira                      49\n",
            "Boneca bebê                    48\n",
            "Carrinho controle remoto       47\n",
            "Guitarra                       47\n",
            "Cama box                       47\n",
            "Copo térmico                   47\n",
            "Modelagem preditiva            46\n",
            "Bola de vôlei                  46\n",
            "Jogo de copos                  46\n",
            "Lava louças                    46\n",
            "Kit banquetas                  45\n",
            "Cama king                      45\n",
            "Bicicleta                      45\n",
            "Mochila                        45\n",
            "Cubo mágico 8x8                45\n",
            "Xadrez de madeira              45\n",
            "Mesa de centro                 45\n",
            "TV Led UHD 4K                  45\n",
            "Tablet ABXY                    44\n",
            "Smartwatch                     44\n",
            "Cômoda                         44\n",
            "Panela de pressão              44\n",
            "Headset                        44\n",
            "Sofá retrátil                  44\n",
            "Dashboards com Power BI        43\n",
            "Ciência de dados com python    43\n",
            "Bola de basquete               42\n",
            "Fogão                          42\n",
            "Dinossauro Rex                 42\n",
            "Celular ABXY                   41\n",
            "Smart TV                       40\n",
            "Faqueiro                       39\n",
            "Assistente virtual             38\n",
            "Fone de ouvido                 37\n",
            "Poltrona                       35\n",
            "Mesa de jantar                 34\n",
            "Impressora                     34\n",
            "Jogo de tabuleiro              32\n",
            "Name: count, dtype: int64\n"
          ]
        }
      ]
    },
    {
      "cell_type": "code",
      "source": [
        "df = loja3\n",
        "contagem_produtos = df['Produto'].value_counts()\n",
        "contagem_produtos = contagem_produtos.sort_values(ascending=False)\n",
        "print(contagem_produtos)"
      ],
      "metadata": {
        "colab": {
          "base_uri": "https://localhost:8080/"
        },
        "id": "-yWT81YuTL_r",
        "outputId": "333fdfea-2844-44b0-b018-e1725c3dc371",
        "collapsed": true
      },
      "execution_count": 16,
      "outputs": [
        {
          "output_type": "stream",
          "name": "stdout",
          "text": [
            "Produto\n",
            "Kit banquetas                  57\n",
            "Mesa de jantar                 56\n",
            "Cama king                      56\n",
            "Jogo de panelas                55\n",
            "Cômoda                         55\n",
            "Smart TV                       54\n",
            "Fogão                          53\n",
            "Corda de pular                 53\n",
            "Modelagem preditiva            53\n",
            "Carrinho controle remoto       52\n",
            "Lava louças                    52\n",
            "Bicicleta                      52\n",
            "Jogo de tabuleiro              52\n",
            "Pandeiro                       51\n",
            "Impressora                     50\n",
            "Geladeira                      50\n",
            "Bola de basquete               50\n",
            "Guarda roupas                  49\n",
            "Bola de vôlei                  48\n",
            "Tablet ABXY                    48\n",
            "Poltrona                       47\n",
            "Violão                         47\n",
            "Panela de pressão              47\n",
            "Xadrez de madeira              47\n",
            "Ciência de dados com python    46\n",
            "Celular Plus X42               46\n",
            "Dinossauro Rex                 46\n",
            "Cadeira de escritório          46\n",
            "Smartwatch                     46\n",
            "Cama box                       46\n",
            "Iniciando em programação       46\n",
            "Secadora de roupas             45\n",
            "Sofá retrátil                  45\n",
            "Celular ABXY                   44\n",
            "Cubo mágico 8x8                44\n",
            "Fone de ouvido                 43\n",
            "TV Led UHD 4K                  42\n",
            "Mesa de centro                 42\n",
            "Lavadora de roupas             42\n",
            "Bateria                        41\n",
            "Dashboards com Power BI        40\n",
            "Faqueiro                       39\n",
            "Boneca bebê                    39\n",
            "Headset                        39\n",
            "Assistente virtual             39\n",
            "Copo térmico                   38\n",
            "Guitarra                       38\n",
            "Jogo de copos                  36\n",
            "Mochila                        36\n",
            "Micro-ondas                    36\n",
            "Blocos de montar               35\n",
            "Name: count, dtype: int64\n"
          ]
        }
      ]
    },
    {
      "cell_type": "code",
      "source": [
        "df = loja4\n",
        "contagem_produtos = df['Produto'].value_counts()\n",
        "contagem_produtos = contagem_produtos.sort_values(ascending=False)\n",
        "print(contagem_produtos)"
      ],
      "metadata": {
        "colab": {
          "base_uri": "https://localhost:8080/"
        },
        "id": "JLinfbvLTL2M",
        "outputId": "56ddb73d-7984-4356-a530-29c8bf882025",
        "collapsed": true
      },
      "execution_count": 17,
      "outputs": [
        {
          "output_type": "stream",
          "name": "stdout",
          "text": [
            "Produto\n",
            "Cama box                       62\n",
            "Faqueiro                       59\n",
            "Dashboards com Power BI        56\n",
            "Cama king                      56\n",
            "Carrinho controle remoto       55\n",
            "Mesa de jantar                 55\n",
            "Cômoda                         55\n",
            "Smart TV                       54\n",
            "Blocos de montar               54\n",
            "Pandeiro                       52\n",
            "Impressora                     50\n",
            "Modelagem preditiva            50\n",
            "Assistente virtual             50\n",
            "Jogo de panelas                50\n",
            "Bola de basquete               50\n",
            "Copo térmico                   48\n",
            "Celular Plus X42               48\n",
            "Boneca bebê                    48\n",
            "Bateria                        48\n",
            "Bola de vôlei                  48\n",
            "Jogo de tabuleiro              48\n",
            "Micro-ondas                    48\n",
            "Fogão                          47\n",
            "Cubo mágico 8x8                47\n",
            "Sofá retrátil                  47\n",
            "Dinossauro Rex                 47\n",
            "Panela de pressão              46\n",
            "Jogo de copos                  46\n",
            "Tablet ABXY                    45\n",
            "Poltrona                       45\n",
            "Bicicleta                      45\n",
            "Mesa de centro                 44\n",
            "Fone de ouvido                 44\n",
            "Lava louças                    43\n",
            "Corda de pular                 43\n",
            "Iniciando em programação       43\n",
            "Mochila                        43\n",
            "Headset                        42\n",
            "Kit banquetas                  42\n",
            "TV Led UHD 4K                  40\n",
            "Secadora de roupas             40\n",
            "Cadeira de escritório          40\n",
            "Celular ABXY                   39\n",
            "Xadrez de madeira              39\n",
            "Smartwatch                     39\n",
            "Lavadora de roupas             38\n",
            "Geladeira                      38\n",
            "Ciência de dados com python    38\n",
            "Violão                         37\n",
            "Guarda roupas                  34\n",
            "Guitarra                       33\n",
            "Name: count, dtype: int64\n"
          ]
        }
      ]
    },
    {
      "cell_type": "markdown",
      "source": [
        "# 5. Frete Médio por Loja\n"
      ],
      "metadata": {
        "id": "Fl0cGi3bZKqU"
      }
    },
    {
      "cell_type": "code",
      "source": [
        "df = loja\n",
        "media_frete = df['Frete'].mean()\n",
        "print(\"{:.2f}\".format(media_frete))"
      ],
      "metadata": {
        "id": "S2JeaCykZNy9",
        "colab": {
          "base_uri": "https://localhost:8080/"
        },
        "outputId": "2f0ecba9-d00d-4673-d0cb-e5297523fad2"
      },
      "execution_count": 105,
      "outputs": [
        {
          "output_type": "stream",
          "name": "stdout",
          "text": [
            "34.69\n"
          ]
        }
      ]
    },
    {
      "cell_type": "code",
      "source": [
        "df = loja2\n",
        "media_frete = df['Frete'].mean()\n",
        "print(\"{:.2f}\".format(media_frete))"
      ],
      "metadata": {
        "colab": {
          "base_uri": "https://localhost:8080/"
        },
        "id": "1T14GpzlTJ-Z",
        "outputId": "26833e3f-8c0e-41f2-fbd1-8a60cc9b99cd"
      },
      "execution_count": 102,
      "outputs": [
        {
          "output_type": "stream",
          "name": "stdout",
          "text": [
            "33.62\n"
          ]
        }
      ]
    },
    {
      "cell_type": "code",
      "source": [
        "df = loja3\n",
        "media_frete = df['Frete'].mean()\n",
        "print(\"{:.2f}\".format(media_frete))"
      ],
      "metadata": {
        "colab": {
          "base_uri": "https://localhost:8080/"
        },
        "id": "kTS0mht7TJ5z",
        "outputId": "0f5a7608-23dd-4986-8440-05524bcfe57f"
      },
      "execution_count": 103,
      "outputs": [
        {
          "output_type": "stream",
          "name": "stdout",
          "text": [
            "33.07\n"
          ]
        }
      ]
    },
    {
      "cell_type": "code",
      "source": [
        "df = loja4\n",
        "media_frete = df['Frete'].mean()\n",
        "print(\"{:.2f}\".format(media_frete))"
      ],
      "metadata": {
        "colab": {
          "base_uri": "https://localhost:8080/"
        },
        "id": "DyO_45z2TJvD",
        "outputId": "8c9cf980-1bf2-4b65-ad69-e7f39f9a76d6"
      },
      "execution_count": 104,
      "outputs": [
        {
          "output_type": "stream",
          "name": "stdout",
          "text": [
            "31.28\n"
          ]
        }
      ]
    },
    {
      "cell_type": "markdown",
      "source": [
        "Aqui serão feitos os gráficos das análises."
      ],
      "metadata": {
        "id": "xPahZ4Pkftra"
      }
    },
    {
      "cell_type": "code",
      "source": [
        "import matplotlib.pyplot as plt\n",
        "import seaborn as sns\n",
        "\n",
        "df = loja\n",
        "total_faturamento = []\n",
        "resultado = []\n",
        "media_avaliacao = []\n",
        "contagem_produtos = []\n",
        "\n",
        "\n",
        "matplotlib.pyplot.plot(total_faturamento, resultado, media_avaliacao)"
      ],
      "metadata": {
        "colab": {
          "base_uri": "https://localhost:8080/",
          "height": 430
        },
        "id": "SPInzvXcgswg",
        "outputId": "dd413443-4b1e-4c8f-fbc4-f4969fed265a"
      },
      "execution_count": 100,
      "outputs": [
        {
          "output_type": "display_data",
          "data": {
            "text/plain": [
              "<Figure size 640x480 with 1 Axes>"
            ],
            "image/png": "[encoded data removed]"
          },
          "metadata": {}
        }
      ]
    },
    {
      "cell_type": "code",
      "source": [],
      "metadata": {
        "id": "CMXhepzBg86Y"
      },
      "execution_count": 112,
      "outputs": []
    }
  ]
}